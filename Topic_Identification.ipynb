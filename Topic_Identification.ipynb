{
  "nbformat": 4,
  "nbformat_minor": 0,
  "metadata": {
    "colab": {
      "name": "Topic Identification.ipynb",
      "provenance": [],
      "collapsed_sections": []
    },
    "kernelspec": {
      "name": "python3",
      "display_name": "Python 3"
    },
    "language_info": {
      "name": "python"
    }
  },
  "cells": [
    {
      "cell_type": "code",
      "execution_count": 1,
      "metadata": {
        "id": "7M-N6Y6FJB6u"
      },
      "outputs": [],
      "source": [
        "import nltk"
      ]
    },
    {
      "cell_type": "code",
      "source": [
        "nltk.download('wordnet')"
      ],
      "metadata": {
        "colab": {
          "base_uri": "https://localhost:8080/"
        },
        "id": "7XX_999-JWt9",
        "outputId": "fd0d4d56-4b55-40d5-9b97-0a8f7c1f1d0c"
      },
      "execution_count": 2,
      "outputs": [
        {
          "output_type": "stream",
          "name": "stdout",
          "text": [
            "[nltk_data] Downloading package wordnet to /root/nltk_data...\n",
            "[nltk_data]   Unzipping corpora/wordnet.zip.\n"
          ]
        },
        {
          "output_type": "execute_result",
          "data": {
            "text/plain": [
              "True"
            ]
          },
          "metadata": {},
          "execution_count": 2
        }
      ]
    },
    {
      "cell_type": "code",
      "source": [
        "nltk.download('stopwords')"
      ],
      "metadata": {
        "colab": {
          "base_uri": "https://localhost:8080/"
        },
        "id": "YKJULxpAJdVW",
        "outputId": "d4ebd112-046c-41b4-ac6f-f4dd026f4440"
      },
      "execution_count": 3,
      "outputs": [
        {
          "output_type": "stream",
          "name": "stdout",
          "text": [
            "[nltk_data] Downloading package stopwords to /root/nltk_data...\n",
            "[nltk_data]   Unzipping corpora/stopwords.zip.\n"
          ]
        },
        {
          "output_type": "execute_result",
          "data": {
            "text/plain": [
              "True"
            ]
          },
          "metadata": {},
          "execution_count": 3
        }
      ]
    },
    {
      "cell_type": "code",
      "source": [
        "nltk.download('punkt')"
      ],
      "metadata": {
        "colab": {
          "base_uri": "https://localhost:8080/"
        },
        "id": "-_BPv7vRKO5g",
        "outputId": "570c9e25-9b4e-4739-e746-894fde4ad309"
      },
      "execution_count": 6,
      "outputs": [
        {
          "output_type": "stream",
          "name": "stdout",
          "text": [
            "[nltk_data] Downloading package punkt to /root/nltk_data...\n",
            "[nltk_data]   Unzipping tokenizers/punkt.zip.\n"
          ]
        },
        {
          "output_type": "execute_result",
          "data": {
            "text/plain": [
              "True"
            ]
          },
          "metadata": {},
          "execution_count": 6
        }
      ]
    },
    {
      "cell_type": "code",
      "source": [
        "text_test_1 = \"For a car named after the last letter of the alphabet, the Z-car got off to an incredibly strong start. An instant hit when it landed on our shores in 1970, the first-generation Datsun 240Z wore a graceful long hood, a sloping fastback roofline, a squared-off Kamm tail, and a powerful overhead-cam inline-six engine driving the rear wheels. A starting price of just $3526, about $26,000 in today's money, led to an amazing rookie year. Eventually, the 240Z became the 260Z and then the 280Z, and Datsun became Nissan. But the car's 53-year history has been a bit of a roller coaster. Strong sales, accolades, and racing success met rising prices, a shrinking sports-car market, and eight model years of no Z at all. With the new 2023 Z, Nissan hopes to bring back the thrills. It starts with the name itself. Until now, the adjacent number has always represented the engine\\'s metric displacement in three-digit shorthand. The 2023 Z is powered by a twin-turbo 3.0-liter V-6, and past convention demands it be called a 300Z or 300ZX. A marketing meeting likely deemed that a number lower than the last 370Z could be considered a step backward. But the engine displacement doesn\\'t define Nissan\\'s sports car; it\\'s the Z-ness of the thing.\""
      ],
      "metadata": {
        "id": "ZHYz72iMJi3W"
      },
      "execution_count": 11,
      "outputs": []
    },
    {
      "cell_type": "code",
      "source": [
        "tokens = nltk.word_tokenize(text_test_1)\n",
        "lowercase_tokens = [t.lower() for t in tokens]\n",
        "print(lowercase_tokens)"
      ],
      "metadata": {
        "colab": {
          "base_uri": "https://localhost:8080/"
        },
        "id": "8gw4A-ShJyC7",
        "outputId": "c180e90d-239b-48fd-b811-307536f4323a"
      },
      "execution_count": 12,
      "outputs": [
        {
          "output_type": "stream",
          "name": "stdout",
          "text": [
            "['for', 'a', 'car', 'named', 'after', 'the', 'last', 'letter', 'of', 'the', 'alphabet', ',', 'the', 'z-car', 'got', 'off', 'to', 'an', 'incredibly', 'strong', 'start', '.', 'an', 'instant', 'hit', 'when', 'it', 'landed', 'on', 'our', 'shores', 'in', '1970', ',', 'the', 'first-generation', 'datsun', '240z', 'wore', 'a', 'graceful', 'long', 'hood', ',', 'a', 'sloping', 'fastback', 'roofline', ',', 'a', 'squared-off', 'kamm', 'tail', ',', 'and', 'a', 'powerful', 'overhead-cam', 'inline-six', 'engine', 'driving', 'the', 'rear', 'wheels', '.', 'a', 'starting', 'price', 'of', 'just', '$', '3526', ',', 'about', '$', '26,000', 'in', 'today', \"'s\", 'money', ',', 'led', 'to', 'an', 'amazing', 'rookie', 'year', '.', 'eventually', ',', 'the', '240z', 'became', 'the', '260z', 'and', 'then', 'the', '280z', ',', 'and', 'datsun', 'became', 'nissan', '.', 'but', 'the', 'car', \"'s\", '53-year', 'history', 'has', 'been', 'a', 'bit', 'of', 'a', 'roller', 'coaster', '.', 'strong', 'sales', ',', 'accolades', ',', 'and', 'racing', 'success', 'met', 'rising', 'prices', ',', 'a', 'shrinking', 'sports-car', 'market', ',', 'and', 'eight', 'model', 'years', 'of', 'no', 'z', 'at', 'all', '.', 'with', 'the', 'new', '2023', 'z', ',', 'nissan', 'hopes', 'to', 'bring', 'back', 'the', 'thrills', '.', 'it', 'starts', 'with', 'the', 'name', 'itself', '.', 'until', 'now', ',', 'the', 'adjacent', 'number', 'has', 'always', 'represented', 'the', 'engine', \"'s\", 'metric', 'displacement', 'in', 'three-digit', 'shorthand', '.', 'the', '2023', 'z', 'is', 'powered', 'by', 'a', 'twin-turbo', '3.0-liter', 'v-6', ',', 'and', 'past', 'convention', 'demands', 'it', 'be', 'called', 'a', '300z', 'or', '300zx', '.', 'a', 'marketing', 'meeting', 'likely', 'deemed', 'that', 'a', 'number', 'lower', 'than', 'the', 'last', '370z', 'could', 'be', 'considered', 'a', 'step', 'backward', '.', 'but', 'the', 'engine', 'displacement', 'does', \"n't\", 'define', 'nissan', \"'s\", 'sports', 'car', ';', 'it', \"'s\", 'the', 'z-ness', 'of', 'the', 'thing', '.']\n"
          ]
        }
      ]
    },
    {
      "cell_type": "code",
      "source": [
        "from collections import Counter\n",
        "bag = Counter(lowercase_tokens)\n",
        "bag.most_common(10)"
      ],
      "metadata": {
        "colab": {
          "base_uri": "https://localhost:8080/"
        },
        "id": "E0kXBp3xKDhm",
        "outputId": "c4095e00-c16c-4918-ddc6-ecd55e7ea02d"
      },
      "execution_count": 14,
      "outputs": [
        {
          "output_type": "execute_result",
          "data": {
            "text/plain": [
              "[('the', 19),\n",
              " (',', 16),\n",
              " ('a', 14),\n",
              " ('.', 12),\n",
              " ('and', 6),\n",
              " ('of', 5),\n",
              " (\"'s\", 5),\n",
              " ('it', 4),\n",
              " ('car', 3),\n",
              " ('to', 3)]"
            ]
          },
          "metadata": {},
          "execution_count": 14
        }
      ]
    },
    {
      "cell_type": "code",
      "source": [
        "from nltk.corpus import stopwords\n",
        "temp = [t for t in lowercase_tokens if t.isalpha()]\n",
        "words = stopwords.words(\"english\")\n",
        "removed = [t for t in temp if t not in words]\n",
        "print(removed)"
      ],
      "metadata": {
        "colab": {
          "base_uri": "https://localhost:8080/"
        },
        "id": "a9OVjirqKfZE",
        "outputId": "ba5cd3f0-a245-4e5f-abae-35e08c57412d"
      },
      "execution_count": 16,
      "outputs": [
        {
          "output_type": "stream",
          "name": "stdout",
          "text": [
            "['car', 'named', 'last', 'letter', 'alphabet', 'got', 'incredibly', 'strong', 'start', 'instant', 'hit', 'landed', 'shores', 'datsun', 'wore', 'graceful', 'long', 'hood', 'sloping', 'fastback', 'roofline', 'kamm', 'tail', 'powerful', 'engine', 'driving', 'rear', 'wheels', 'starting', 'price', 'today', 'money', 'led', 'amazing', 'rookie', 'year', 'eventually', 'became', 'datsun', 'became', 'nissan', 'car', 'history', 'bit', 'roller', 'coaster', 'strong', 'sales', 'accolades', 'racing', 'success', 'met', 'rising', 'prices', 'shrinking', 'market', 'eight', 'model', 'years', 'z', 'new', 'z', 'nissan', 'hopes', 'bring', 'back', 'thrills', 'starts', 'name', 'adjacent', 'number', 'always', 'represented', 'engine', 'metric', 'displacement', 'shorthand', 'z', 'powered', 'past', 'convention', 'demands', 'called', 'marketing', 'meeting', 'likely', 'deemed', 'number', 'lower', 'last', 'could', 'considered', 'step', 'backward', 'engine', 'displacement', 'define', 'nissan', 'sports', 'car', 'thing']\n"
          ]
        }
      ]
    },
    {
      "cell_type": "code",
      "source": [
        "from nltk.stem.wordnet import WordNetLemmatizer\n",
        "lemmatizer = WordNetLemmatizer()\n",
        "tokens = [lemmatizer.lemmatize(t) for t in removed]\n",
        "bag = Counter(tokens)\n",
        "print(bag.most_common(6))"
      ],
      "metadata": {
        "colab": {
          "base_uri": "https://localhost:8080/"
        },
        "id": "arkwzSx5LxoG",
        "outputId": "49804001-69c9-4193-9d6c-177f508238dc"
      },
      "execution_count": 35,
      "outputs": [
        {
          "output_type": "stream",
          "name": "stdout",
          "text": [
            "[('car', 3), ('engine', 3), ('nissan', 3), ('z', 3), ('last', 2), ('strong', 2)]\n"
          ]
        }
      ]
    },
    {
      "cell_type": "code",
      "source": [
        "tokens"
      ],
      "metadata": {
        "colab": {
          "base_uri": "https://localhost:8080/"
        },
        "id": "lTJcj9SVNaGa",
        "outputId": "2111c5f8-7b97-48a6-d60f-9cced0b28176"
      },
      "execution_count": 36,
      "outputs": [
        {
          "output_type": "execute_result",
          "data": {
            "text/plain": [
              "['car',\n",
              " 'named',\n",
              " 'last',\n",
              " 'letter',\n",
              " 'alphabet',\n",
              " 'got',\n",
              " 'incredibly',\n",
              " 'strong',\n",
              " 'start',\n",
              " 'instant',\n",
              " 'hit',\n",
              " 'landed',\n",
              " 'shore',\n",
              " 'datsun',\n",
              " 'wore',\n",
              " 'graceful',\n",
              " 'long',\n",
              " 'hood',\n",
              " 'sloping',\n",
              " 'fastback',\n",
              " 'roofline',\n",
              " 'kamm',\n",
              " 'tail',\n",
              " 'powerful',\n",
              " 'engine',\n",
              " 'driving',\n",
              " 'rear',\n",
              " 'wheel',\n",
              " 'starting',\n",
              " 'price',\n",
              " 'today',\n",
              " 'money',\n",
              " 'led',\n",
              " 'amazing',\n",
              " 'rookie',\n",
              " 'year',\n",
              " 'eventually',\n",
              " 'became',\n",
              " 'datsun',\n",
              " 'became',\n",
              " 'nissan',\n",
              " 'car',\n",
              " 'history',\n",
              " 'bit',\n",
              " 'roller',\n",
              " 'coaster',\n",
              " 'strong',\n",
              " 'sale',\n",
              " 'accolade',\n",
              " 'racing',\n",
              " 'success',\n",
              " 'met',\n",
              " 'rising',\n",
              " 'price',\n",
              " 'shrinking',\n",
              " 'market',\n",
              " 'eight',\n",
              " 'model',\n",
              " 'year',\n",
              " 'z',\n",
              " 'new',\n",
              " 'z',\n",
              " 'nissan',\n",
              " 'hope',\n",
              " 'bring',\n",
              " 'back',\n",
              " 'thrill',\n",
              " 'start',\n",
              " 'name',\n",
              " 'adjacent',\n",
              " 'number',\n",
              " 'always',\n",
              " 'represented',\n",
              " 'engine',\n",
              " 'metric',\n",
              " 'displacement',\n",
              " 'shorthand',\n",
              " 'z',\n",
              " 'powered',\n",
              " 'past',\n",
              " 'convention',\n",
              " 'demand',\n",
              " 'called',\n",
              " 'marketing',\n",
              " 'meeting',\n",
              " 'likely',\n",
              " 'deemed',\n",
              " 'number',\n",
              " 'lower',\n",
              " 'last',\n",
              " 'could',\n",
              " 'considered',\n",
              " 'step',\n",
              " 'backward',\n",
              " 'engine',\n",
              " 'displacement',\n",
              " 'define',\n",
              " 'nissan',\n",
              " 'sport',\n",
              " 'car',\n",
              " 'thing']"
            ]
          },
          "metadata": {},
          "execution_count": 36
        }
      ]
    },
    {
      "cell_type": "code",
      "source": [
        "from gensim import corpora\n",
        "dictionary = corpora.Dictionary([tokens])"
      ],
      "metadata": {
        "id": "_gXAtmg1MVMx"
      },
      "execution_count": 37,
      "outputs": []
    },
    {
      "cell_type": "code",
      "source": [
        "matrix = [dictionary.doc2bow(doc) for doc in [tokens]]"
      ],
      "metadata": {
        "id": "iXI19zz7NNJE"
      },
      "execution_count": 39,
      "outputs": []
    },
    {
      "cell_type": "code",
      "source": [
        "import gensim\n",
        "ldaobj = gensim.models.ldamodel.LdaModel"
      ],
      "metadata": {
        "id": "oMAoS0bmO1A7"
      },
      "execution_count": 41,
      "outputs": []
    },
    {
      "cell_type": "code",
      "source": [
        "ldamod1 = ldaobj(matrix, num_topics =2 , id2word = dictionary)\n",
        "print(ldamod1.print_topics(num_topics=2, num_words=5))"
      ],
      "metadata": {
        "colab": {
          "base_uri": "https://localhost:8080/"
        },
        "id": "074jNe90PEYa",
        "outputId": "57a75023-f65b-4e8e-cfaa-1e9194696a48"
      },
      "execution_count": 43,
      "outputs": [
        {
          "output_type": "stream",
          "name": "stdout",
          "text": [
            "[(0, '0.023*\"z\" + 0.023*\"nissan\" + 0.023*\"engine\" + 0.022*\"car\" + 0.018*\"number\"'), (1, '0.021*\"car\" + 0.020*\"engine\" + 0.020*\"nissan\" + 0.020*\"z\" + 0.018*\"year\"')]\n"
          ]
        }
      ]
    },
    {
      "cell_type": "code",
      "source": [
        "ldamod2 = ldaobj(matrix, num_topics =3 , id2word = dictionary)\n",
        "print(ldamod2.print_topics(num_topics=3, num_words=5))"
      ],
      "metadata": {
        "colab": {
          "base_uri": "https://localhost:8080/"
        },
        "id": "f_xQQ3XlPg6p",
        "outputId": "4988fcbd-1f89-4765-87f0-811ae4d6eac3"
      },
      "execution_count": 44,
      "outputs": [
        {
          "output_type": "stream",
          "name": "stdout",
          "text": [
            "[(0, '0.025*\"nissan\" + 0.023*\"car\" + 0.021*\"engine\" + 0.020*\"z\" + 0.018*\"displacement\"'), (1, '0.026*\"engine\" + 0.023*\"car\" + 0.023*\"z\" + 0.020*\"nissan\" + 0.020*\"strong\"'), (2, '0.022*\"z\" + 0.021*\"nissan\" + 0.019*\"car\" + 0.018*\"datsun\" + 0.017*\"engine\"')]\n"
          ]
        }
      ]
    },
    {
      "cell_type": "code",
      "source": [
        ""
      ],
      "metadata": {
        "id": "bhhYtaIPPsKw"
      },
      "execution_count": null,
      "outputs": []
    }
  ]
}